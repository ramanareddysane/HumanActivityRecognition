{
 "cells": [
  {
   "cell_type": "code",
   "execution_count": 1,
   "metadata": {
    "collapsed": true
   },
   "outputs": [],
   "source": [
    "import pandas as pd\n",
    "import numpy as np"
   ]
  },
  {
   "cell_type": "code",
   "execution_count": 2,
   "metadata": {
    "collapsed": true
   },
   "outputs": [],
   "source": [
    "features = list()\n",
    "with open('UCI_HAR_dataset/features.txt') as f:\n",
    "    features = [line.split()[1] for line in f.readlines()]"
   ]
  },
  {
   "cell_type": "code",
   "execution_count": 3,
   "metadata": {},
   "outputs": [
    {
     "name": "stdout",
     "output_type": "stream",
     "text": [
      "No of features : 561\n",
      "['tBodyAcc-mean()-X', 'tBodyAcc-mean()-Y', 'tBodyAcc-mean()-Z', 'tBodyAcc-std()-X', 'tBodyAcc-std()-Y', 'tBodyAcc-std()-Z', 'tBodyAcc-mad()-X', 'tBodyAcc-mad()-Y', 'tBodyAcc-mad()-Z', 'tBodyAcc-max()-X']\n"
     ]
    }
   ],
   "source": [
    "print(\"No of features : {}\".format(features.__len__()))\n",
    "print(features[:10])"
   ]
  },
  {
   "cell_type": "code",
   "execution_count": 4,
   "metadata": {},
   "outputs": [
    {
     "data": {
      "text/html": [
       "<div>\n",
       "<style>\n",
       "    .dataframe thead tr:only-child th {\n",
       "        text-align: right;\n",
       "    }\n",
       "\n",
       "    .dataframe thead th {\n",
       "        text-align: left;\n",
       "    }\n",
       "\n",
       "    .dataframe tbody tr th {\n",
       "        vertical-align: top;\n",
       "    }\n",
       "</style>\n",
       "<table border=\"1\" class=\"dataframe\">\n",
       "  <thead>\n",
       "    <tr style=\"text-align: right;\">\n",
       "      <th></th>\n",
       "      <th>tBodyAcc-mean()-X</th>\n",
       "      <th>tBodyAcc-mean()-Y</th>\n",
       "      <th>tBodyAcc-mean()-Z</th>\n",
       "      <th>tBodyAcc-std()-X</th>\n",
       "      <th>tBodyAcc-std()-Y</th>\n",
       "      <th>tBodyAcc-std()-Z</th>\n",
       "      <th>tBodyAcc-mad()-X</th>\n",
       "      <th>tBodyAcc-mad()-Y</th>\n",
       "      <th>tBodyAcc-mad()-Z</th>\n",
       "      <th>tBodyAcc-max()-X</th>\n",
       "      <th>...</th>\n",
       "      <th>fBodyBodyGyroJerkMag-skewness()</th>\n",
       "      <th>fBodyBodyGyroJerkMag-kurtosis()</th>\n",
       "      <th>angle(tBodyAccMean,gravity)</th>\n",
       "      <th>angle(tBodyAccJerkMean),gravityMean)</th>\n",
       "      <th>angle(tBodyGyroMean,gravityMean)</th>\n",
       "      <th>angle(tBodyGyroJerkMean,gravityMean)</th>\n",
       "      <th>angle(X,gravityMean)</th>\n",
       "      <th>angle(Y,gravityMean)</th>\n",
       "      <th>angle(Z,gravityMean)</th>\n",
       "      <th>subject</th>\n",
       "    </tr>\n",
       "  </thead>\n",
       "  <tbody>\n",
       "    <tr>\n",
       "      <th>4257</th>\n",
       "      <td>0.27711</td>\n",
       "      <td>-0.010033</td>\n",
       "      <td>-0.100074</td>\n",
       "      <td>-0.99337</td>\n",
       "      <td>-0.975854</td>\n",
       "      <td>-0.973739</td>\n",
       "      <td>-0.994606</td>\n",
       "      <td>-0.974218</td>\n",
       "      <td>-0.970705</td>\n",
       "      <td>-0.929556</td>\n",
       "      <td>...</td>\n",
       "      <td>-0.53976</td>\n",
       "      <td>-0.852231</td>\n",
       "      <td>0.059613</td>\n",
       "      <td>-0.15936</td>\n",
       "      <td>-0.000328</td>\n",
       "      <td>-0.033104</td>\n",
       "      <td>-0.917086</td>\n",
       "      <td>0.10805</td>\n",
       "      <td>0.078206</td>\n",
       "      <td>21.0</td>\n",
       "    </tr>\n",
       "  </tbody>\n",
       "</table>\n",
       "<p>1 rows × 562 columns</p>\n",
       "</div>"
      ],
      "text/plain": [
       "      tBodyAcc-mean()-X  tBodyAcc-mean()-Y  tBodyAcc-mean()-Z  \\\n",
       "4257            0.27711          -0.010033          -0.100074   \n",
       "\n",
       "      tBodyAcc-std()-X  tBodyAcc-std()-Y  tBodyAcc-std()-Z  tBodyAcc-mad()-X  \\\n",
       "4257          -0.99337         -0.975854         -0.973739         -0.994606   \n",
       "\n",
       "      tBodyAcc-mad()-Y  tBodyAcc-mad()-Z  tBodyAcc-max()-X   ...     \\\n",
       "4257         -0.974218         -0.970705         -0.929556   ...      \n",
       "\n",
       "      fBodyBodyGyroJerkMag-skewness()  fBodyBodyGyroJerkMag-kurtosis()  \\\n",
       "4257                         -0.53976                        -0.852231   \n",
       "\n",
       "      angle(tBodyAccMean,gravity)  angle(tBodyAccJerkMean),gravityMean)  \\\n",
       "4257                     0.059613                              -0.15936   \n",
       "\n",
       "      angle(tBodyGyroMean,gravityMean)  angle(tBodyGyroJerkMean,gravityMean)  \\\n",
       "4257                         -0.000328                             -0.033104   \n",
       "\n",
       "      angle(X,gravityMean)  angle(Y,gravityMean)  angle(Z,gravityMean)  \\\n",
       "4257             -0.917086               0.10805              0.078206   \n",
       "\n",
       "      subject  \n",
       "4257     21.0  \n",
       "\n",
       "[1 rows x 562 columns]"
      ]
     },
     "execution_count": 4,
     "metadata": {},
     "output_type": "execute_result"
    }
   ],
   "source": [
    "X_train = pd.read_fwf('UCI_HAR_dataset/train/X_train.txt', names=features)\n",
    "# add subject column to the dataframe\n",
    "X_train['subject'] = pd.read_csv('UCI_HAR_dataset/train/subject_train.txt', squeeze=True)\n",
    "\n",
    "y_train = pd.read_csv('UCI_HAR_dataset/train/y_train.txt', names=['Activity'], squeeze=True)\n",
    "X_train.sample()"
   ]
  },
  {
   "cell_type": "code",
   "execution_count": 5,
   "metadata": {},
   "outputs": [
    {
     "data": {
      "text/html": [
       "<div>\n",
       "<style>\n",
       "    .dataframe thead tr:only-child th {\n",
       "        text-align: right;\n",
       "    }\n",
       "\n",
       "    .dataframe thead th {\n",
       "        text-align: left;\n",
       "    }\n",
       "\n",
       "    .dataframe tbody tr th {\n",
       "        vertical-align: top;\n",
       "    }\n",
       "</style>\n",
       "<table border=\"1\" class=\"dataframe\">\n",
       "  <thead>\n",
       "    <tr style=\"text-align: right;\">\n",
       "      <th></th>\n",
       "      <th>tBodyAcc-mean()-X</th>\n",
       "      <th>tBodyAcc-mean()-Y</th>\n",
       "      <th>tBodyAcc-mean()-Z</th>\n",
       "      <th>tBodyAcc-std()-X</th>\n",
       "      <th>tBodyAcc-std()-Y</th>\n",
       "      <th>tBodyAcc-std()-Z</th>\n",
       "      <th>tBodyAcc-mad()-X</th>\n",
       "      <th>tBodyAcc-mad()-Y</th>\n",
       "      <th>tBodyAcc-mad()-Z</th>\n",
       "      <th>tBodyAcc-max()-X</th>\n",
       "      <th>...</th>\n",
       "      <th>fBodyBodyGyroJerkMag-kurtosis()</th>\n",
       "      <th>angle(tBodyAccMean,gravity)</th>\n",
       "      <th>angle(tBodyAccJerkMean),gravityMean)</th>\n",
       "      <th>angle(tBodyGyroMean,gravityMean)</th>\n",
       "      <th>angle(tBodyGyroJerkMean,gravityMean)</th>\n",
       "      <th>angle(X,gravityMean)</th>\n",
       "      <th>angle(Y,gravityMean)</th>\n",
       "      <th>angle(Z,gravityMean)</th>\n",
       "      <th>subject</th>\n",
       "      <th>Activity</th>\n",
       "    </tr>\n",
       "  </thead>\n",
       "  <tbody>\n",
       "    <tr>\n",
       "      <th>5144</th>\n",
       "      <td>0.692761</td>\n",
       "      <td>0.064792</td>\n",
       "      <td>-0.508947</td>\n",
       "      <td>-0.774065</td>\n",
       "      <td>-0.597639</td>\n",
       "      <td>-0.670013</td>\n",
       "      <td>-0.764374</td>\n",
       "      <td>-0.633086</td>\n",
       "      <td>-0.68427</td>\n",
       "      <td>-0.639321</td>\n",
       "      <td>...</td>\n",
       "      <td>-0.749022</td>\n",
       "      <td>0.105597</td>\n",
       "      <td>0.227572</td>\n",
       "      <td>0.115031</td>\n",
       "      <td>0.044637</td>\n",
       "      <td>0.659964</td>\n",
       "      <td>-0.682939</td>\n",
       "      <td>-0.312935</td>\n",
       "      <td>25.0</td>\n",
       "      <td>6</td>\n",
       "    </tr>\n",
       "  </tbody>\n",
       "</table>\n",
       "<p>1 rows × 563 columns</p>\n",
       "</div>"
      ],
      "text/plain": [
       "      tBodyAcc-mean()-X  tBodyAcc-mean()-Y  tBodyAcc-mean()-Z  \\\n",
       "5144           0.692761           0.064792          -0.508947   \n",
       "\n",
       "      tBodyAcc-std()-X  tBodyAcc-std()-Y  tBodyAcc-std()-Z  tBodyAcc-mad()-X  \\\n",
       "5144         -0.774065         -0.597639         -0.670013         -0.764374   \n",
       "\n",
       "      tBodyAcc-mad()-Y  tBodyAcc-mad()-Z  tBodyAcc-max()-X    ...     \\\n",
       "5144         -0.633086          -0.68427         -0.639321    ...      \n",
       "\n",
       "      fBodyBodyGyroJerkMag-kurtosis()  angle(tBodyAccMean,gravity)  \\\n",
       "5144                        -0.749022                     0.105597   \n",
       "\n",
       "      angle(tBodyAccJerkMean),gravityMean)  angle(tBodyGyroMean,gravityMean)  \\\n",
       "5144                              0.227572                          0.115031   \n",
       "\n",
       "      angle(tBodyGyroJerkMean,gravityMean)  angle(X,gravityMean)  \\\n",
       "5144                              0.044637              0.659964   \n",
       "\n",
       "      angle(Y,gravityMean)  angle(Z,gravityMean)  subject  Activity  \n",
       "5144             -0.682939             -0.312935     25.0         6  \n",
       "\n",
       "[1 rows x 563 columns]"
      ]
     },
     "execution_count": 5,
     "metadata": {},
     "output_type": "execute_result"
    }
   ],
   "source": [
    "train = X_train\n",
    "train['Activity'] = y_train\n",
    "train.sample()"
   ]
  },
  {
   "cell_type": "code",
   "execution_count": 6,
   "metadata": {},
   "outputs": [
    {
     "name": "stdout",
     "output_type": "stream",
     "text": [
      "25.0    409\n",
      "21.0    408\n",
      "26.0    392\n",
      "30.0    383\n",
      "28.0    382\n",
      "27.0    376\n",
      "23.0    372\n",
      "17.0    368\n",
      "16.0    366\n",
      "19.0    360\n",
      "1.0     346\n",
      "29.0    344\n",
      "3.0     341\n",
      "15.0    328\n",
      "6.0     325\n",
      "14.0    323\n",
      "22.0    321\n",
      "11.0    316\n",
      "7.0     308\n",
      "5.0     302\n",
      "8.0     281\n",
      "Name: subject, dtype: int64\n"
     ]
    }
   ],
   "source": [
    "print(X_train.subject.value_counts())"
   ]
  },
  {
   "cell_type": "code",
   "execution_count": 7,
   "metadata": {
    "scrolled": true
   },
   "outputs": [
    {
     "data": {
      "text/plain": [
       "(7351, 563)"
      ]
     },
     "execution_count": 7,
     "metadata": {},
     "output_type": "execute_result"
    }
   ],
   "source": [
    "train.isnull().values.any()\n",
    "train[train.isnull().T.any().T]\n",
    "# dropping the NaN/Null rows\n",
    "train = train.dropna(how = 'any')\n",
    "train.shape"
   ]
  },
  {
   "cell_type": "code",
   "execution_count": 8,
   "metadata": {},
   "outputs": [
    {
     "data": {
      "text/plain": [
       "False"
      ]
     },
     "execution_count": 8,
     "metadata": {},
     "output_type": "execute_result"
    }
   ],
   "source": [
    "# Checking for Nan/Null\n",
    "train.isnull().values.any()"
   ]
  },
  {
   "cell_type": "code",
   "execution_count": 9,
   "metadata": {},
   "outputs": [
    {
     "data": {
      "text/plain": [
       "Index(['tBodyAcc-mean()-X', 'tBodyAcc-mean()-Y', 'tBodyAcc-mean()-Z',\n",
       "       'tBodyAcc-std()-X', 'tBodyAcc-std()-Y', 'tBodyAcc-std()-Z',\n",
       "       'tBodyAcc-mad()-X', 'tBodyAcc-mad()-Y', 'tBodyAcc-mad()-Z',\n",
       "       'tBodyAcc-max()-X',\n",
       "       ...\n",
       "       'fBodyBodyGyroJerkMag-kurtosis()', 'angle(tBodyAccMean,gravity)',\n",
       "       'angle(tBodyAccJerkMean),gravityMean)',\n",
       "       'angle(tBodyGyroMean,gravityMean)',\n",
       "       'angle(tBodyGyroJerkMean,gravityMean)', 'angle(X,gravityMean)',\n",
       "       'angle(Y,gravityMean)', 'angle(Z,gravityMean)', 'subject', 'Activity'],\n",
       "      dtype='object', length=563)"
      ]
     },
     "execution_count": 9,
     "metadata": {},
     "output_type": "execute_result"
    }
   ],
   "source": [
    "train.columns"
   ]
  },
  {
   "cell_type": "code",
   "execution_count": 10,
   "metadata": {},
   "outputs": [
    {
     "data": {
      "text/plain": [
       "Index(['tBodyAccmeanX', 'tBodyAccmeanY', 'tBodyAccmeanZ', 'tBodyAccstdX',\n",
       "       'tBodyAccstdY', 'tBodyAccstdZ', 'tBodyAccmadX', 'tBodyAccmadY',\n",
       "       'tBodyAccmadZ', 'tBodyAccmaxX',\n",
       "       ...\n",
       "       'fBodyGyroJerkMagkurtosis', 'angletBodyAccMeangravity',\n",
       "       'angletBodyAccJerkMeangravityMean', 'angletBodyGyroMeangravityMean',\n",
       "       'angletBodyGyroJerkMeangravityMean', 'angleXgravityMean',\n",
       "       'angleYgravityMean', 'angleZgravityMean', 'subject', 'Activity'],\n",
       "      dtype='object', length=563)"
      ]
     },
     "execution_count": 10,
     "metadata": {},
     "output_type": "execute_result"
    }
   ],
   "source": [
    "# Removing '()' from column names\n",
    "train.columns = train.columns.str.replace('[()]','')\n",
    "train.columns = train.columns.str.replace('[-]', '')\n",
    "train.columns = train.columns.str.replace('[,]','')\n",
    "train = train.rename(columns = lambda x : str(x).replace('BodyBody','Body'))\n",
    "\n",
    "train.columns"
   ]
  },
  {
   "cell_type": "code",
   "execution_count": 11,
   "metadata": {},
   "outputs": [
    {
     "data": {
      "text/plain": [
       "0    5\n",
       "1    5\n",
       "2    5\n",
       "3    5\n",
       "4    5\n",
       "Name: Activity, dtype: int64"
      ]
     },
     "execution_count": 11,
     "metadata": {},
     "output_type": "execute_result"
    }
   ],
   "source": [
    "train['Activity'].head()"
   ]
  },
  {
   "cell_type": "code",
   "execution_count": 12,
   "metadata": {
    "scrolled": false
   },
   "outputs": [
    {
     "data": {
      "text/plain": [
       "0    STANDING\n",
       "1    STANDING\n",
       "2    STANDING\n",
       "3    STANDING\n",
       "4    STANDING\n",
       "Name: ActivityName, dtype: object"
      ]
     },
     "execution_count": 12,
     "metadata": {},
     "output_type": "execute_result"
    }
   ],
   "source": [
    "# changing activity labels into activity names for readability purposes\n",
    "train['ActivityName'] = train['Activity'].map({1: 'WALKING', 2:'WALKING_UPSTAIRS',3:'WALKING_DOWNSTAIRS',\\\n",
    "                       4:'SITTING', 5:'STANDING',6:'LAYING'})\n",
    "train.ActivityName.head()"
   ]
  },
  {
   "cell_type": "code",
   "execution_count": 13,
   "metadata": {},
   "outputs": [
    {
     "data": {
      "text/html": [
       "<div>\n",
       "<style>\n",
       "    .dataframe thead tr:only-child th {\n",
       "        text-align: right;\n",
       "    }\n",
       "\n",
       "    .dataframe thead th {\n",
       "        text-align: left;\n",
       "    }\n",
       "\n",
       "    .dataframe tbody tr th {\n",
       "        vertical-align: top;\n",
       "    }\n",
       "</style>\n",
       "<table border=\"1\" class=\"dataframe\">\n",
       "  <thead>\n",
       "    <tr style=\"text-align: right;\">\n",
       "      <th></th>\n",
       "      <th>tBodyAccmeanX</th>\n",
       "      <th>tBodyAccmeanY</th>\n",
       "      <th>tBodyAccmeanZ</th>\n",
       "      <th>tBodyAccstdX</th>\n",
       "      <th>tBodyAccstdY</th>\n",
       "      <th>tBodyAccstdZ</th>\n",
       "      <th>tBodyAccmadX</th>\n",
       "      <th>tBodyAccmadY</th>\n",
       "      <th>tBodyAccmadZ</th>\n",
       "      <th>tBodyAccmaxX</th>\n",
       "      <th>...</th>\n",
       "      <th>angletBodyAccMeangravity</th>\n",
       "      <th>angletBodyAccJerkMeangravityMean</th>\n",
       "      <th>angletBodyGyroMeangravityMean</th>\n",
       "      <th>angletBodyGyroJerkMeangravityMean</th>\n",
       "      <th>angleXgravityMean</th>\n",
       "      <th>angleYgravityMean</th>\n",
       "      <th>angleZgravityMean</th>\n",
       "      <th>subject</th>\n",
       "      <th>Activity</th>\n",
       "      <th>ActivityName</th>\n",
       "    </tr>\n",
       "  </thead>\n",
       "  <tbody>\n",
       "    <tr>\n",
       "      <th>4209</th>\n",
       "      <td>0.277278</td>\n",
       "      <td>-0.015177</td>\n",
       "      <td>-0.118301</td>\n",
       "      <td>-0.992573</td>\n",
       "      <td>-0.967951</td>\n",
       "      <td>-0.991385</td>\n",
       "      <td>-0.993551</td>\n",
       "      <td>-0.9684</td>\n",
       "      <td>-0.991974</td>\n",
       "      <td>-0.933953</td>\n",
       "      <td>...</td>\n",
       "      <td>-0.043629</td>\n",
       "      <td>-0.114857</td>\n",
       "      <td>0.244375</td>\n",
       "      <td>-0.475183</td>\n",
       "      <td>-0.593323</td>\n",
       "      <td>0.336384</td>\n",
       "      <td>0.16692</td>\n",
       "      <td>21.0</td>\n",
       "      <td>5</td>\n",
       "      <td>STANDING</td>\n",
       "    </tr>\n",
       "  </tbody>\n",
       "</table>\n",
       "<p>1 rows × 564 columns</p>\n",
       "</div>"
      ],
      "text/plain": [
       "      tBodyAccmeanX  tBodyAccmeanY  tBodyAccmeanZ  tBodyAccstdX  tBodyAccstdY  \\\n",
       "4209       0.277278      -0.015177      -0.118301     -0.992573     -0.967951   \n",
       "\n",
       "      tBodyAccstdZ  tBodyAccmadX  tBodyAccmadY  tBodyAccmadZ  tBodyAccmaxX  \\\n",
       "4209     -0.991385     -0.993551       -0.9684     -0.991974     -0.933953   \n",
       "\n",
       "          ...       angletBodyAccMeangravity  \\\n",
       "4209      ...                      -0.043629   \n",
       "\n",
       "      angletBodyAccJerkMeangravityMean  angletBodyGyroMeangravityMean  \\\n",
       "4209                         -0.114857                       0.244375   \n",
       "\n",
       "      angletBodyGyroJerkMeangravityMean  angleXgravityMean  angleYgravityMean  \\\n",
       "4209                          -0.475183          -0.593323           0.336384   \n",
       "\n",
       "      angleZgravityMean  subject  Activity  ActivityName  \n",
       "4209            0.16692     21.0         5      STANDING  \n",
       "\n",
       "[1 rows x 564 columns]"
      ]
     },
     "execution_count": 13,
     "metadata": {},
     "output_type": "execute_result"
    }
   ],
   "source": [
    "train.sample()"
   ]
  },
  {
   "cell_type": "code",
   "execution_count": 14,
   "metadata": {
    "collapsed": true
   },
   "outputs": [],
   "source": [
    "# my_features = ['tBodyAccMagmean','tBodyAccMagstd','tBodyAccJerkMagmean','tBodyAccJerkMagstd','tBodyGyroMagmean',\n",
    "#      'tBodyGyroMagstd','tBodyGyroJerkMagmean','tBodyGyroJerkMagstd','fBodyAccMagmean','fBodyAccMagstd',\n",
    "#      'fBodyAccJerkMagmean','fBodyAccJerkMagstd','fBodyGyroMagmean','fBodyGyroMagstd','fBodyGyroJerkMagmean',\n",
    "#      'fBodyGyroJerkMagstd','fBodyGyroMagmeanFreq','fBodyGyroJerkMagmeanFreq','fBodyAccMagmeanFreq',\n",
    "#      'fBodyAccJerkMagmeanFreq','fBodyAccMagskewness','fBodyAccMagkurtosis','fBodyAccJerkMagskewness',\n",
    "#      'fBodyAccJerkMagkurtosis','fBodyGyroMagskewness','fBodyGyroMagkurtosis','fBodyGyroJerkMagskewness',\n",
    "#      'fBodyGyroJerkMagkurtosis','angletBodyAccJerkMeangravityMean','angletBodyAccMeangravity',\n",
    "#      'angletBodyGyroJerkMeangravityMean','angletBodyGyroMeangravityMean','angleXgravityMean',\n",
    "#      'angleYgravityMean','angleZgravityMean','subject','Activity','ActivityName']\n",
    "\n",
    "# df = train[my_features]\n",
    "# df.shape"
   ]
  },
  {
   "cell_type": "code",
   "execution_count": 15,
   "metadata": {
    "collapsed": true
   },
   "outputs": [],
   "source": [
    "# just some basic preprocessing on columns\n",
    "# df = df.rename(columns = lambda x : str(x).replace('Body',''))\n",
    "# df = df.rename(columns = lambda x : str(x).replace('Mag',''))\n",
    "# df = df.rename(columns = lambda x : str(x).replace('mean','Mean'))\n",
    "# df = df.rename(columns = lambda x : str(x).replace('std','SD'))\n",
    "# df.columns"
   ]
  },
  {
   "cell_type": "markdown",
   "metadata": {},
   "source": [
    " "
   ]
  },
  {
   "cell_type": "markdown",
   "metadata": {},
   "source": [
    " "
   ]
  },
  {
   "cell_type": "markdown",
   "metadata": {},
   "source": [
    " "
   ]
  },
  {
   "cell_type": "markdown",
   "metadata": {},
   "source": [
    " "
   ]
  },
  {
   "cell_type": "markdown",
   "metadata": {},
   "source": [
    " "
   ]
  },
  {
   "cell_type": "markdown",
   "metadata": {},
   "source": [
    " "
   ]
  },
  {
   "cell_type": "markdown",
   "metadata": {},
   "source": [
    " "
   ]
  },
  {
   "cell_type": "markdown",
   "metadata": {},
   "source": [
    " "
   ]
  },
  {
   "cell_type": "markdown",
   "metadata": {},
   "source": [
    " "
   ]
  },
  {
   "cell_type": "markdown",
   "metadata": {},
   "source": [
    " "
   ]
  },
  {
   "cell_type": "markdown",
   "metadata": {},
   "source": [
    " "
   ]
  },
  {
   "cell_type": "markdown",
   "metadata": {},
   "source": [
    "## Exploratory Data Analysis"
   ]
  },
  {
   "cell_type": "code",
   "execution_count": 17,
   "metadata": {
    "collapsed": true
   },
   "outputs": [],
   "source": [
    "import matplotlib.pyplot as plt\n",
    "import seaborn as sns\n",
    "plt.rcParams[\"font.family\"] = 'DejaVu Sans'"
   ]
  },
  {
   "cell_type": "code",
   "execution_count": 15,
   "metadata": {},
   "outputs": [
    {
     "data": {
      "image/png": "[encoded data removed]",
      "text/plain": [
       "<matplotlib.figure.Figure at 0x7f727a297828>"
      ]
     },
     "metadata": {},
     "output_type": "display_data"
    }
   ],
   "source": [
    "facetgrid = sns.FacetGrid(train, hue='ActivityName', size=5,aspect=2)\n",
    "facetgrid.map(sns.distplot,'tBodyAccMagmean', hist=False)\\\n",
    "    .add_legend()\n",
    "# plt.savefig('sns.png')\n",
    "plt.show()"
   ]
  },
  {
   "cell_type": "code",
   "execution_count": 18,
   "metadata": {
    "scrolled": false
   },
   "outputs": [
    {
     "data": {
      "image/png": "[encoded data removed]",
      "text/plain": [
       "<matplotlib.figure.Figure at 0x7f727a830f60>"
      ]
     },
     "metadata": {},
     "output_type": "display_data"
    }
   ],
   "source": [
    "from matplotlib import gridspec\n",
    "\n",
    "fig = plt.figure(figsize=(16,8))\n",
    "fig.suptitle('Acceleration and sma(Signal Magnitude Area)')\n",
    "gs = gridspec.GridSpec(1,2)\n",
    "\n",
    "plt.subplot(gs[0])\n",
    "sns.boxplot(x='ActivityName', y='tBodyAccMagmean',data=train, showfliers=False, saturation=1)\n",
    "plt.xticks(rotation=90)\n",
    "\n",
    "\n",
    "plt.subplot(gs[1])\n",
    "sns.boxplot(x='ActivityName', y='tBodyAccsma',data=train, showfliers=False, saturation=1)\n",
    "plt.ylabel('Acceleration SMA')\n",
    "plt.xticks(rotation=90)\n",
    "plt.show()\n"
   ]
  },
  {
   "cell_type": "code",
   "execution_count": 19,
   "metadata": {},
   "outputs": [
    {
     "data": {
      "image/png": "[encoded data removed]",
      "text/plain": [
       "<matplotlib.figure.Figure at 0x7f727a277160>"
      ]
     },
     "metadata": {},
     "output_type": "display_data"
    }
   ],
   "source": [
    "sns.boxplot(x='ActivityName', y='angleXgravityMean', data=train, showfliers=False)\n",
    "\n",
    "plt.xticks(rotation = 40)\n",
    "plt.show()"
   ]
  },
  {
   "cell_type": "code",
   "execution_count": 20,
   "metadata": {},
   "outputs": [
    {
     "data": {
      "text/html": [
       "<div>\n",
       "<style>\n",
       "    .dataframe thead tr:only-child th {\n",
       "        text-align: right;\n",
       "    }\n",
       "\n",
       "    .dataframe thead th {\n",
       "        text-align: left;\n",
       "    }\n",
       "\n",
       "    .dataframe tbody tr th {\n",
       "        vertical-align: top;\n",
       "    }\n",
       "</style>\n",
       "<table border=\"1\" class=\"dataframe\">\n",
       "  <thead>\n",
       "    <tr style=\"text-align: right;\">\n",
       "      <th></th>\n",
       "      <th>tBodyAccmeanX</th>\n",
       "      <th>tBodyAccmeanY</th>\n",
       "      <th>tBodyAccmeanZ</th>\n",
       "      <th>tBodyAccstdX</th>\n",
       "      <th>tBodyAccstdY</th>\n",
       "      <th>tBodyAccstdZ</th>\n",
       "      <th>tBodyAccmadX</th>\n",
       "      <th>tBodyAccmadY</th>\n",
       "      <th>tBodyAccmadZ</th>\n",
       "      <th>tBodyAccmaxX</th>\n",
       "      <th>...</th>\n",
       "      <th>angletBodyAccMeangravity</th>\n",
       "      <th>angletBodyAccJerkMeangravityMean</th>\n",
       "      <th>angletBodyGyroMeangravityMean</th>\n",
       "      <th>angletBodyGyroJerkMeangravityMean</th>\n",
       "      <th>angleXgravityMean</th>\n",
       "      <th>angleYgravityMean</th>\n",
       "      <th>angleZgravityMean</th>\n",
       "      <th>subject</th>\n",
       "      <th>Activity</th>\n",
       "      <th>ActivityName</th>\n",
       "    </tr>\n",
       "  </thead>\n",
       "  <tbody>\n",
       "    <tr>\n",
       "      <th>0</th>\n",
       "      <td>0.288585</td>\n",
       "      <td>-0.020294</td>\n",
       "      <td>-0.132905</td>\n",
       "      <td>-0.995279</td>\n",
       "      <td>-0.983111</td>\n",
       "      <td>-0.913526</td>\n",
       "      <td>-0.995112</td>\n",
       "      <td>-0.983185</td>\n",
       "      <td>-0.923527</td>\n",
       "      <td>-0.934724</td>\n",
       "      <td>...</td>\n",
       "      <td>-0.112754</td>\n",
       "      <td>0.030400</td>\n",
       "      <td>-0.464761</td>\n",
       "      <td>-0.018446</td>\n",
       "      <td>-0.841247</td>\n",
       "      <td>0.179941</td>\n",
       "      <td>-0.058627</td>\n",
       "      <td>1.0</td>\n",
       "      <td>5</td>\n",
       "      <td>STANDING</td>\n",
       "    </tr>\n",
       "    <tr>\n",
       "      <th>1</th>\n",
       "      <td>0.278419</td>\n",
       "      <td>-0.016411</td>\n",
       "      <td>-0.123520</td>\n",
       "      <td>-0.998245</td>\n",
       "      <td>-0.975300</td>\n",
       "      <td>-0.960322</td>\n",
       "      <td>-0.998807</td>\n",
       "      <td>-0.974914</td>\n",
       "      <td>-0.957686</td>\n",
       "      <td>-0.943068</td>\n",
       "      <td>...</td>\n",
       "      <td>0.053477</td>\n",
       "      <td>-0.007435</td>\n",
       "      <td>-0.732626</td>\n",
       "      <td>0.703511</td>\n",
       "      <td>-0.844788</td>\n",
       "      <td>0.180289</td>\n",
       "      <td>-0.054317</td>\n",
       "      <td>1.0</td>\n",
       "      <td>5</td>\n",
       "      <td>STANDING</td>\n",
       "    </tr>\n",
       "    <tr>\n",
       "      <th>2</th>\n",
       "      <td>0.279653</td>\n",
       "      <td>-0.019467</td>\n",
       "      <td>-0.113462</td>\n",
       "      <td>-0.995380</td>\n",
       "      <td>-0.967187</td>\n",
       "      <td>-0.978944</td>\n",
       "      <td>-0.996520</td>\n",
       "      <td>-0.963668</td>\n",
       "      <td>-0.977469</td>\n",
       "      <td>-0.938692</td>\n",
       "      <td>...</td>\n",
       "      <td>-0.118559</td>\n",
       "      <td>0.177899</td>\n",
       "      <td>0.100699</td>\n",
       "      <td>0.808529</td>\n",
       "      <td>-0.848933</td>\n",
       "      <td>0.180637</td>\n",
       "      <td>-0.049118</td>\n",
       "      <td>1.0</td>\n",
       "      <td>5</td>\n",
       "      <td>STANDING</td>\n",
       "    </tr>\n",
       "    <tr>\n",
       "      <th>3</th>\n",
       "      <td>0.279174</td>\n",
       "      <td>-0.026201</td>\n",
       "      <td>-0.123283</td>\n",
       "      <td>-0.996091</td>\n",
       "      <td>-0.983403</td>\n",
       "      <td>-0.990675</td>\n",
       "      <td>-0.997099</td>\n",
       "      <td>-0.982750</td>\n",
       "      <td>-0.989302</td>\n",
       "      <td>-0.938692</td>\n",
       "      <td>...</td>\n",
       "      <td>-0.036788</td>\n",
       "      <td>-0.012892</td>\n",
       "      <td>0.640011</td>\n",
       "      <td>-0.485366</td>\n",
       "      <td>-0.848649</td>\n",
       "      <td>0.181935</td>\n",
       "      <td>-0.047663</td>\n",
       "      <td>1.0</td>\n",
       "      <td>5</td>\n",
       "      <td>STANDING</td>\n",
       "    </tr>\n",
       "    <tr>\n",
       "      <th>4</th>\n",
       "      <td>0.276629</td>\n",
       "      <td>-0.016570</td>\n",
       "      <td>-0.115362</td>\n",
       "      <td>-0.998139</td>\n",
       "      <td>-0.980817</td>\n",
       "      <td>-0.990482</td>\n",
       "      <td>-0.998321</td>\n",
       "      <td>-0.979672</td>\n",
       "      <td>-0.990441</td>\n",
       "      <td>-0.942469</td>\n",
       "      <td>...</td>\n",
       "      <td>0.123320</td>\n",
       "      <td>0.122542</td>\n",
       "      <td>0.693578</td>\n",
       "      <td>-0.615971</td>\n",
       "      <td>-0.847865</td>\n",
       "      <td>0.185151</td>\n",
       "      <td>-0.043892</td>\n",
       "      <td>1.0</td>\n",
       "      <td>5</td>\n",
       "      <td>STANDING</td>\n",
       "    </tr>\n",
       "  </tbody>\n",
       "</table>\n",
       "<p>5 rows × 564 columns</p>\n",
       "</div>"
      ],
      "text/plain": [
       "   tBodyAccmeanX  tBodyAccmeanY  tBodyAccmeanZ  tBodyAccstdX  tBodyAccstdY  \\\n",
       "0       0.288585      -0.020294      -0.132905     -0.995279     -0.983111   \n",
       "1       0.278419      -0.016411      -0.123520     -0.998245     -0.975300   \n",
       "2       0.279653      -0.019467      -0.113462     -0.995380     -0.967187   \n",
       "3       0.279174      -0.026201      -0.123283     -0.996091     -0.983403   \n",
       "4       0.276629      -0.016570      -0.115362     -0.998139     -0.980817   \n",
       "\n",
       "   tBodyAccstdZ  tBodyAccmadX  tBodyAccmadY  tBodyAccmadZ  tBodyAccmaxX  \\\n",
       "0     -0.913526     -0.995112     -0.983185     -0.923527     -0.934724   \n",
       "1     -0.960322     -0.998807     -0.974914     -0.957686     -0.943068   \n",
       "2     -0.978944     -0.996520     -0.963668     -0.977469     -0.938692   \n",
       "3     -0.990675     -0.997099     -0.982750     -0.989302     -0.938692   \n",
       "4     -0.990482     -0.998321     -0.979672     -0.990441     -0.942469   \n",
       "\n",
       "       ...       angletBodyAccMeangravity  angletBodyAccJerkMeangravityMean  \\\n",
       "0      ...                      -0.112754                          0.030400   \n",
       "1      ...                       0.053477                         -0.007435   \n",
       "2      ...                      -0.118559                          0.177899   \n",
       "3      ...                      -0.036788                         -0.012892   \n",
       "4      ...                       0.123320                          0.122542   \n",
       "\n",
       "   angletBodyGyroMeangravityMean  angletBodyGyroJerkMeangravityMean  \\\n",
       "0                      -0.464761                          -0.018446   \n",
       "1                      -0.732626                           0.703511   \n",
       "2                       0.100699                           0.808529   \n",
       "3                       0.640011                          -0.485366   \n",
       "4                       0.693578                          -0.615971   \n",
       "\n",
       "   angleXgravityMean  angleYgravityMean  angleZgravityMean  subject  Activity  \\\n",
       "0          -0.841247           0.179941          -0.058627      1.0         5   \n",
       "1          -0.844788           0.180289          -0.054317      1.0         5   \n",
       "2          -0.848933           0.180637          -0.049118      1.0         5   \n",
       "3          -0.848649           0.181935          -0.047663      1.0         5   \n",
       "4          -0.847865           0.185151          -0.043892      1.0         5   \n",
       "\n",
       "   ActivityName  \n",
       "0      STANDING  \n",
       "1      STANDING  \n",
       "2      STANDING  \n",
       "3      STANDING  \n",
       "4      STANDING  \n",
       "\n",
       "[5 rows x 564 columns]"
      ]
     },
     "execution_count": 20,
     "metadata": {},
     "output_type": "execute_result"
    }
   ],
   "source": [
    "train['']"
   ]
  },
  {
   "cell_type": "code",
   "execution_count": null,
   "metadata": {
    "collapsed": true
   },
   "outputs": [],
   "source": []
  },
  {
   "cell_type": "code",
   "execution_count": null,
   "metadata": {
    "collapsed": true
   },
   "outputs": [],
   "source": []
  },
  {
   "cell_type": "code",
   "execution_count": null,
   "metadata": {
    "collapsed": true
   },
   "outputs": [],
   "source": []
  },
  {
   "cell_type": "code",
   "execution_count": null,
   "metadata": {
    "collapsed": true
   },
   "outputs": [],
   "source": []
  },
  {
   "cell_type": "code",
   "execution_count": null,
   "metadata": {
    "collapsed": true
   },
   "outputs": [],
   "source": []
  },
  {
   "cell_type": "code",
   "execution_count": null,
   "metadata": {
    "collapsed": true
   },
   "outputs": [],
   "source": []
  },
  {
   "cell_type": "code",
   "execution_count": null,
   "metadata": {
    "collapsed": true
   },
   "outputs": [],
   "source": []
  },
  {
   "cell_type": "code",
   "execution_count": null,
   "metadata": {
    "collapsed": true
   },
   "outputs": [],
   "source": []
  },
  {
   "cell_type": "code",
   "execution_count": null,
   "metadata": {
    "collapsed": true
   },
   "outputs": [],
   "source": []
  },
  {
   "cell_type": "code",
   "execution_count": null,
   "metadata": {
    "collapsed": true
   },
   "outputs": [],
   "source": []
  },
  {
   "cell_type": "code",
   "execution_count": null,
   "metadata": {
    "collapsed": true
   },
   "outputs": [],
   "source": []
  },
  {
   "cell_type": "code",
   "execution_count": null,
   "metadata": {
    "collapsed": true
   },
   "outputs": [],
   "source": []
  },
  {
   "cell_type": "code",
   "execution_count": null,
   "metadata": {
    "collapsed": true
   },
   "outputs": [],
   "source": []
  },
  {
   "cell_type": "code",
   "execution_count": null,
   "metadata": {
    "collapsed": true
   },
   "outputs": [],
   "source": []
  },
  {
   "cell_type": "code",
   "execution_count": null,
   "metadata": {
    "collapsed": true
   },
   "outputs": [],
   "source": []
  },
  {
   "cell_type": "code",
   "execution_count": null,
   "metadata": {
    "collapsed": true
   },
   "outputs": [],
   "source": []
  },
  {
   "cell_type": "code",
   "execution_count": null,
   "metadata": {
    "collapsed": true
   },
   "outputs": [],
   "source": []
  },
  {
   "cell_type": "code",
   "execution_count": null,
   "metadata": {
    "collapsed": true
   },
   "outputs": [],
   "source": []
  },
  {
   "cell_type": "code",
   "execution_count": null,
   "metadata": {
    "collapsed": true
   },
   "outputs": [],
   "source": []
  },
  {
   "cell_type": "code",
   "execution_count": null,
   "metadata": {
    "collapsed": true
   },
   "outputs": [],
   "source": []
  },
  {
   "cell_type": "code",
   "execution_count": null,
   "metadata": {
    "collapsed": true
   },
   "outputs": [],
   "source": []
  },
  {
   "cell_type": "code",
   "execution_count": null,
   "metadata": {
    "collapsed": true
   },
   "outputs": [],
   "source": []
  },
  {
   "cell_type": "code",
   "execution_count": null,
   "metadata": {
    "collapsed": true
   },
   "outputs": [],
   "source": []
  },
  {
   "cell_type": "code",
   "execution_count": null,
   "metadata": {
    "collapsed": true
   },
   "outputs": [],
   "source": []
  },
  {
   "cell_type": "code",
   "execution_count": null,
   "metadata": {
    "collapsed": true
   },
   "outputs": [],
   "source": []
  },
  {
   "cell_type": "code",
   "execution_count": null,
   "metadata": {
    "collapsed": true
   },
   "outputs": [],
   "source": []
  },
  {
   "cell_type": "code",
   "execution_count": null,
   "metadata": {
    "collapsed": true
   },
   "outputs": [],
   "source": []
  },
  {
   "cell_type": "code",
   "execution_count": 21,
   "metadata": {
    "scrolled": true
   },
   "outputs": [
    {
     "data": {
      "text/plain": [
       "array(['tBodyAccmeanX', 'tBodyAccmeanY', 'tBodyAccmeanZ', 'tBodyAccstdX',\n",
       "       'tBodyAccstdY', 'tBodyAccstdZ', 'tBodyAccmadX', 'tBodyAccmadY',\n",
       "       'tBodyAccmadZ', 'tBodyAccmaxX', 'tBodyAccmaxY', 'tBodyAccmaxZ',\n",
       "       'tBodyAccminX', 'tBodyAccminY', 'tBodyAccminZ', 'tBodyAccsma',\n",
       "       'tBodyAccenergyX', 'tBodyAccenergyY', 'tBodyAccenergyZ',\n",
       "       'tBodyAcciqrX', 'tBodyAcciqrY', 'tBodyAcciqrZ', 'tBodyAccentropyX',\n",
       "       'tBodyAccentropyY', 'tBodyAccentropyZ', 'tBodyAccarCoeffX1',\n",
       "       'tBodyAccarCoeffX2', 'tBodyAccarCoeffX3', 'tBodyAccarCoeffX4',\n",
       "       'tBodyAccarCoeffY1', 'tBodyAccarCoeffY2', 'tBodyAccarCoeffY3',\n",
       "       'tBodyAccarCoeffY4', 'tBodyAccarCoeffZ1', 'tBodyAccarCoeffZ2',\n",
       "       'tBodyAccarCoeffZ3', 'tBodyAccarCoeffZ4', 'tBodyAcccorrelationXY',\n",
       "       'tBodyAcccorrelationXZ', 'tBodyAcccorrelationYZ',\n",
       "       'tGravityAccmeanX', 'tGravityAccmeanY', 'tGravityAccmeanZ',\n",
       "       'tGravityAccstdX', 'tGravityAccstdY', 'tGravityAccstdZ',\n",
       "       'tGravityAccmadX', 'tGravityAccmadY', 'tGravityAccmadZ',\n",
       "       'tGravityAccmaxX', 'tGravityAccmaxY', 'tGravityAccmaxZ',\n",
       "       'tGravityAccminX', 'tGravityAccminY', 'tGravityAccminZ',\n",
       "       'tGravityAccsma', 'tGravityAccenergyX', 'tGravityAccenergyY',\n",
       "       'tGravityAccenergyZ', 'tGravityAcciqrX', 'tGravityAcciqrY',\n",
       "       'tGravityAcciqrZ', 'tGravityAccentropyX', 'tGravityAccentropyY',\n",
       "       'tGravityAccentropyZ', 'tGravityAccarCoeffX1',\n",
       "       'tGravityAccarCoeffX2', 'tGravityAccarCoeffX3',\n",
       "       'tGravityAccarCoeffX4', 'tGravityAccarCoeffY1',\n",
       "       'tGravityAccarCoeffY2', 'tGravityAccarCoeffY3',\n",
       "       'tGravityAccarCoeffY4', 'tGravityAccarCoeffZ1',\n",
       "       'tGravityAccarCoeffZ2', 'tGravityAccarCoeffZ3',\n",
       "       'tGravityAccarCoeffZ4', 'tGravityAcccorrelationXY',\n",
       "       'tGravityAcccorrelationXZ', 'tGravityAcccorrelationYZ',\n",
       "       'tBodyAccJerkmeanX', 'tBodyAccJerkmeanY', 'tBodyAccJerkmeanZ',\n",
       "       'tBodyAccJerkstdX', 'tBodyAccJerkstdY', 'tBodyAccJerkstdZ',\n",
       "       'tBodyAccJerkmadX', 'tBodyAccJerkmadY', 'tBodyAccJerkmadZ',\n",
       "       'tBodyAccJerkmaxX', 'tBodyAccJerkmaxY', 'tBodyAccJerkmaxZ',\n",
       "       'tBodyAccJerkminX', 'tBodyAccJerkminY', 'tBodyAccJerkminZ',\n",
       "       'tBodyAccJerksma', 'tBodyAccJerkenergyX', 'tBodyAccJerkenergyY',\n",
       "       'tBodyAccJerkenergyZ', 'tBodyAccJerkiqrX', 'tBodyAccJerkiqrY',\n",
       "       'tBodyAccJerkiqrZ', 'tBodyAccJerkentropyX', 'tBodyAccJerkentropyY',\n",
       "       'tBodyAccJerkentropyZ', 'tBodyAccJerkarCoeffX1',\n",
       "       'tBodyAccJerkarCoeffX2', 'tBodyAccJerkarCoeffX3',\n",
       "       'tBodyAccJerkarCoeffX4', 'tBodyAccJerkarCoeffY1',\n",
       "       'tBodyAccJerkarCoeffY2', 'tBodyAccJerkarCoeffY3',\n",
       "       'tBodyAccJerkarCoeffY4', 'tBodyAccJerkarCoeffZ1',\n",
       "       'tBodyAccJerkarCoeffZ2', 'tBodyAccJerkarCoeffZ3',\n",
       "       'tBodyAccJerkarCoeffZ4', 'tBodyAccJerkcorrelationXY',\n",
       "       'tBodyAccJerkcorrelationXZ', 'tBodyAccJerkcorrelationYZ',\n",
       "       'tBodyGyromeanX', 'tBodyGyromeanY', 'tBodyGyromeanZ',\n",
       "       'tBodyGyrostdX', 'tBodyGyrostdY', 'tBodyGyrostdZ', 'tBodyGyromadX',\n",
       "       'tBodyGyromadY', 'tBodyGyromadZ', 'tBodyGyromaxX', 'tBodyGyromaxY',\n",
       "       'tBodyGyromaxZ', 'tBodyGyrominX', 'tBodyGyrominY', 'tBodyGyrominZ',\n",
       "       'tBodyGyrosma', 'tBodyGyroenergyX', 'tBodyGyroenergyY',\n",
       "       'tBodyGyroenergyZ', 'tBodyGyroiqrX', 'tBodyGyroiqrY',\n",
       "       'tBodyGyroiqrZ', 'tBodyGyroentropyX', 'tBodyGyroentropyY',\n",
       "       'tBodyGyroentropyZ', 'tBodyGyroarCoeffX1', 'tBodyGyroarCoeffX2',\n",
       "       'tBodyGyroarCoeffX3', 'tBodyGyroarCoeffX4', 'tBodyGyroarCoeffY1',\n",
       "       'tBodyGyroarCoeffY2', 'tBodyGyroarCoeffY3', 'tBodyGyroarCoeffY4',\n",
       "       'tBodyGyroarCoeffZ1', 'tBodyGyroarCoeffZ2', 'tBodyGyroarCoeffZ3',\n",
       "       'tBodyGyroarCoeffZ4', 'tBodyGyrocorrelationXY',\n",
       "       'tBodyGyrocorrelationXZ', 'tBodyGyrocorrelationYZ',\n",
       "       'tBodyGyroJerkmeanX', 'tBodyGyroJerkmeanY', 'tBodyGyroJerkmeanZ',\n",
       "       'tBodyGyroJerkstdX', 'tBodyGyroJerkstdY', 'tBodyGyroJerkstdZ',\n",
       "       'tBodyGyroJerkmadX', 'tBodyGyroJerkmadY', 'tBodyGyroJerkmadZ',\n",
       "       'tBodyGyroJerkmaxX', 'tBodyGyroJerkmaxY', 'tBodyGyroJerkmaxZ',\n",
       "       'tBodyGyroJerkminX', 'tBodyGyroJerkminY', 'tBodyGyroJerkminZ',\n",
       "       'tBodyGyroJerksma', 'tBodyGyroJerkenergyX', 'tBodyGyroJerkenergyY',\n",
       "       'tBodyGyroJerkenergyZ', 'tBodyGyroJerkiqrX', 'tBodyGyroJerkiqrY',\n",
       "       'tBodyGyroJerkiqrZ', 'tBodyGyroJerkentropyX',\n",
       "       'tBodyGyroJerkentropyY', 'tBodyGyroJerkentropyZ',\n",
       "       'tBodyGyroJerkarCoeffX1', 'tBodyGyroJerkarCoeffX2',\n",
       "       'tBodyGyroJerkarCoeffX3', 'tBodyGyroJerkarCoeffX4',\n",
       "       'tBodyGyroJerkarCoeffY1', 'tBodyGyroJerkarCoeffY2',\n",
       "       'tBodyGyroJerkarCoeffY3', 'tBodyGyroJerkarCoeffY4',\n",
       "       'tBodyGyroJerkarCoeffZ1', 'tBodyGyroJerkarCoeffZ2',\n",
       "       'tBodyGyroJerkarCoeffZ3', 'tBodyGyroJerkarCoeffZ4',\n",
       "       'tBodyGyroJerkcorrelationXY', 'tBodyGyroJerkcorrelationXZ',\n",
       "       'tBodyGyroJerkcorrelationYZ', 'tBodyAccMagmean', 'tBodyAccMagstd',\n",
       "       'tBodyAccMagmad', 'tBodyAccMagmax', 'tBodyAccMagmin',\n",
       "       'tBodyAccMagsma', 'tBodyAccMagenergy', 'tBodyAccMagiqr',\n",
       "       'tBodyAccMagentropy', 'tBodyAccMagarCoeff1', 'tBodyAccMagarCoeff2',\n",
       "       'tBodyAccMagarCoeff3', 'tBodyAccMagarCoeff4', 'tGravityAccMagmean',\n",
       "       'tGravityAccMagstd', 'tGravityAccMagmad', 'tGravityAccMagmax',\n",
       "       'tGravityAccMagmin', 'tGravityAccMagsma', 'tGravityAccMagenergy',\n",
       "       'tGravityAccMagiqr', 'tGravityAccMagentropy',\n",
       "       'tGravityAccMagarCoeff1', 'tGravityAccMagarCoeff2',\n",
       "       'tGravityAccMagarCoeff3', 'tGravityAccMagarCoeff4',\n",
       "       'tBodyAccJerkMagmean', 'tBodyAccJerkMagstd', 'tBodyAccJerkMagmad',\n",
       "       'tBodyAccJerkMagmax', 'tBodyAccJerkMagmin', 'tBodyAccJerkMagsma',\n",
       "       'tBodyAccJerkMagenergy', 'tBodyAccJerkMagiqr',\n",
       "       'tBodyAccJerkMagentropy', 'tBodyAccJerkMagarCoeff1',\n",
       "       'tBodyAccJerkMagarCoeff2', 'tBodyAccJerkMagarCoeff3',\n",
       "       'tBodyAccJerkMagarCoeff4', 'tBodyGyroMagmean', 'tBodyGyroMagstd',\n",
       "       'tBodyGyroMagmad', 'tBodyGyroMagmax', 'tBodyGyroMagmin',\n",
       "       'tBodyGyroMagsma', 'tBodyGyroMagenergy', 'tBodyGyroMagiqr',\n",
       "       'tBodyGyroMagentropy', 'tBodyGyroMagarCoeff1',\n",
       "       'tBodyGyroMagarCoeff2', 'tBodyGyroMagarCoeff3',\n",
       "       'tBodyGyroMagarCoeff4', 'tBodyGyroJerkMagmean',\n",
       "       'tBodyGyroJerkMagstd', 'tBodyGyroJerkMagmad', 'tBodyGyroJerkMagmax',\n",
       "       'tBodyGyroJerkMagmin', 'tBodyGyroJerkMagsma',\n",
       "       'tBodyGyroJerkMagenergy', 'tBodyGyroJerkMagiqr',\n",
       "       'tBodyGyroJerkMagentropy', 'tBodyGyroJerkMagarCoeff1',\n",
       "       'tBodyGyroJerkMagarCoeff2', 'tBodyGyroJerkMagarCoeff3',\n",
       "       'tBodyGyroJerkMagarCoeff4', 'fBodyAccmeanX', 'fBodyAccmeanY',\n",
       "       'fBodyAccmeanZ', 'fBodyAccstdX', 'fBodyAccstdY', 'fBodyAccstdZ',\n",
       "       'fBodyAccmadX', 'fBodyAccmadY', 'fBodyAccmadZ', 'fBodyAccmaxX',\n",
       "       'fBodyAccmaxY', 'fBodyAccmaxZ', 'fBodyAccminX', 'fBodyAccminY',\n",
       "       'fBodyAccminZ', 'fBodyAccsma', 'fBodyAccenergyX', 'fBodyAccenergyY',\n",
       "       'fBodyAccenergyZ', 'fBodyAcciqrX', 'fBodyAcciqrY', 'fBodyAcciqrZ',\n",
       "       'fBodyAccentropyX', 'fBodyAccentropyY', 'fBodyAccentropyZ',\n",
       "       'fBodyAccmaxIndsX', 'fBodyAccmaxIndsY', 'fBodyAccmaxIndsZ',\n",
       "       'fBodyAccmeanFreqX', 'fBodyAccmeanFreqY', 'fBodyAccmeanFreqZ',\n",
       "       'fBodyAccskewnessX', 'fBodyAcckurtosisX', 'fBodyAccskewnessY',\n",
       "       'fBodyAcckurtosisY', 'fBodyAccskewnessZ', 'fBodyAcckurtosisZ',\n",
       "       'fBodyAccbandsEnergy18', 'fBodyAccbandsEnergy916',\n",
       "       'fBodyAccbandsEnergy1724', 'fBodyAccbandsEnergy2532',\n",
       "       'fBodyAccbandsEnergy3340', 'fBodyAccbandsEnergy4148',\n",
       "       'fBodyAccbandsEnergy4956', 'fBodyAccbandsEnergy5764',\n",
       "       'fBodyAccbandsEnergy116', 'fBodyAccbandsEnergy1732',\n",
       "       'fBodyAccbandsEnergy3348', 'fBodyAccbandsEnergy4964',\n",
       "       'fBodyAccbandsEnergy124', 'fBodyAccbandsEnergy2548',\n",
       "       'fBodyAccbandsEnergy18.1', 'fBodyAccbandsEnergy916.1',\n",
       "       'fBodyAccbandsEnergy1724.1', 'fBodyAccbandsEnergy2532.1',\n",
       "       'fBodyAccbandsEnergy3340.1', 'fBodyAccbandsEnergy4148.1',\n",
       "       'fBodyAccbandsEnergy4956.1', 'fBodyAccbandsEnergy5764.1',\n",
       "       'fBodyAccbandsEnergy116.1', 'fBodyAccbandsEnergy1732.1',\n",
       "       'fBodyAccbandsEnergy3348.1', 'fBodyAccbandsEnergy4964.1',\n",
       "       'fBodyAccbandsEnergy124.1', 'fBodyAccbandsEnergy2548.1',\n",
       "       'fBodyAccbandsEnergy18.2', 'fBodyAccbandsEnergy916.2',\n",
       "       'fBodyAccbandsEnergy1724.2', 'fBodyAccbandsEnergy2532.2',\n",
       "       'fBodyAccbandsEnergy3340.2', 'fBodyAccbandsEnergy4148.2',\n",
       "       'fBodyAccbandsEnergy4956.2', 'fBodyAccbandsEnergy5764.2',\n",
       "       'fBodyAccbandsEnergy116.2', 'fBodyAccbandsEnergy1732.2',\n",
       "       'fBodyAccbandsEnergy3348.2', 'fBodyAccbandsEnergy4964.2',\n",
       "       'fBodyAccbandsEnergy124.2', 'fBodyAccbandsEnergy2548.2',\n",
       "       'fBodyAccJerkmeanX', 'fBodyAccJerkmeanY', 'fBodyAccJerkmeanZ',\n",
       "       'fBodyAccJerkstdX', 'fBodyAccJerkstdY', 'fBodyAccJerkstdZ',\n",
       "       'fBodyAccJerkmadX', 'fBodyAccJerkmadY', 'fBodyAccJerkmadZ',\n",
       "       'fBodyAccJerkmaxX', 'fBodyAccJerkmaxY', 'fBodyAccJerkmaxZ',\n",
       "       'fBodyAccJerkminX', 'fBodyAccJerkminY', 'fBodyAccJerkminZ',\n",
       "       'fBodyAccJerksma', 'fBodyAccJerkenergyX', 'fBodyAccJerkenergyY',\n",
       "       'fBodyAccJerkenergyZ', 'fBodyAccJerkiqrX', 'fBodyAccJerkiqrY',\n",
       "       'fBodyAccJerkiqrZ', 'fBodyAccJerkentropyX', 'fBodyAccJerkentropyY',\n",
       "       'fBodyAccJerkentropyZ', 'fBodyAccJerkmaxIndsX',\n",
       "       'fBodyAccJerkmaxIndsY', 'fBodyAccJerkmaxIndsZ',\n",
       "       'fBodyAccJerkmeanFreqX', 'fBodyAccJerkmeanFreqY',\n",
       "       'fBodyAccJerkmeanFreqZ', 'fBodyAccJerkskewnessX',\n",
       "       'fBodyAccJerkkurtosisX', 'fBodyAccJerkskewnessY',\n",
       "       'fBodyAccJerkkurtosisY', 'fBodyAccJerkskewnessZ',\n",
       "       'fBodyAccJerkkurtosisZ', 'fBodyAccJerkbandsEnergy18',\n",
       "       'fBodyAccJerkbandsEnergy916', 'fBodyAccJerkbandsEnergy1724',\n",
       "       'fBodyAccJerkbandsEnergy2532', 'fBodyAccJerkbandsEnergy3340',\n",
       "       'fBodyAccJerkbandsEnergy4148', 'fBodyAccJerkbandsEnergy4956',\n",
       "       'fBodyAccJerkbandsEnergy5764', 'fBodyAccJerkbandsEnergy116',\n",
       "       'fBodyAccJerkbandsEnergy1732', 'fBodyAccJerkbandsEnergy3348',\n",
       "       'fBodyAccJerkbandsEnergy4964', 'fBodyAccJerkbandsEnergy124',\n",
       "       'fBodyAccJerkbandsEnergy2548', 'fBodyAccJerkbandsEnergy18.1',\n",
       "       'fBodyAccJerkbandsEnergy916.1', 'fBodyAccJerkbandsEnergy1724.1',\n",
       "       'fBodyAccJerkbandsEnergy2532.1', 'fBodyAccJerkbandsEnergy3340.1',\n",
       "       'fBodyAccJerkbandsEnergy4148.1', 'fBodyAccJerkbandsEnergy4956.1',\n",
       "       'fBodyAccJerkbandsEnergy5764.1', 'fBodyAccJerkbandsEnergy116.1',\n",
       "       'fBodyAccJerkbandsEnergy1732.1', 'fBodyAccJerkbandsEnergy3348.1',\n",
       "       'fBodyAccJerkbandsEnergy4964.1', 'fBodyAccJerkbandsEnergy124.1',\n",
       "       'fBodyAccJerkbandsEnergy2548.1', 'fBodyAccJerkbandsEnergy18.2',\n",
       "       'fBodyAccJerkbandsEnergy916.2', 'fBodyAccJerkbandsEnergy1724.2',\n",
       "       'fBodyAccJerkbandsEnergy2532.2', 'fBodyAccJerkbandsEnergy3340.2',\n",
       "       'fBodyAccJerkbandsEnergy4148.2', 'fBodyAccJerkbandsEnergy4956.2',\n",
       "       'fBodyAccJerkbandsEnergy5764.2', 'fBodyAccJerkbandsEnergy116.2',\n",
       "       'fBodyAccJerkbandsEnergy1732.2', 'fBodyAccJerkbandsEnergy3348.2',\n",
       "       'fBodyAccJerkbandsEnergy4964.2', 'fBodyAccJerkbandsEnergy124.2',\n",
       "       'fBodyAccJerkbandsEnergy2548.2', 'fBodyGyromeanX', 'fBodyGyromeanY',\n",
       "       'fBodyGyromeanZ', 'fBodyGyrostdX', 'fBodyGyrostdY', 'fBodyGyrostdZ',\n",
       "       'fBodyGyromadX', 'fBodyGyromadY', 'fBodyGyromadZ', 'fBodyGyromaxX',\n",
       "       'fBodyGyromaxY', 'fBodyGyromaxZ', 'fBodyGyrominX', 'fBodyGyrominY',\n",
       "       'fBodyGyrominZ', 'fBodyGyrosma', 'fBodyGyroenergyX',\n",
       "       'fBodyGyroenergyY', 'fBodyGyroenergyZ', 'fBodyGyroiqrX',\n",
       "       'fBodyGyroiqrY', 'fBodyGyroiqrZ', 'fBodyGyroentropyX',\n",
       "       'fBodyGyroentropyY', 'fBodyGyroentropyZ', 'fBodyGyromaxIndsX',\n",
       "       'fBodyGyromaxIndsY', 'fBodyGyromaxIndsZ', 'fBodyGyromeanFreqX',\n",
       "       'fBodyGyromeanFreqY', 'fBodyGyromeanFreqZ', 'fBodyGyroskewnessX',\n",
       "       'fBodyGyrokurtosisX', 'fBodyGyroskewnessY', 'fBodyGyrokurtosisY',\n",
       "       'fBodyGyroskewnessZ', 'fBodyGyrokurtosisZ',\n",
       "       'fBodyGyrobandsEnergy18', 'fBodyGyrobandsEnergy916',\n",
       "       'fBodyGyrobandsEnergy1724', 'fBodyGyrobandsEnergy2532',\n",
       "       'fBodyGyrobandsEnergy3340', 'fBodyGyrobandsEnergy4148',\n",
       "       'fBodyGyrobandsEnergy4956', 'fBodyGyrobandsEnergy5764',\n",
       "       'fBodyGyrobandsEnergy116', 'fBodyGyrobandsEnergy1732',\n",
       "       'fBodyGyrobandsEnergy3348', 'fBodyGyrobandsEnergy4964',\n",
       "       'fBodyGyrobandsEnergy124', 'fBodyGyrobandsEnergy2548',\n",
       "       'fBodyGyrobandsEnergy18.1', 'fBodyGyrobandsEnergy916.1',\n",
       "       'fBodyGyrobandsEnergy1724.1', 'fBodyGyrobandsEnergy2532.1',\n",
       "       'fBodyGyrobandsEnergy3340.1', 'fBodyGyrobandsEnergy4148.1',\n",
       "       'fBodyGyrobandsEnergy4956.1', 'fBodyGyrobandsEnergy5764.1',\n",
       "       'fBodyGyrobandsEnergy116.1', 'fBodyGyrobandsEnergy1732.1',\n",
       "       'fBodyGyrobandsEnergy3348.1', 'fBodyGyrobandsEnergy4964.1',\n",
       "       'fBodyGyrobandsEnergy124.1', 'fBodyGyrobandsEnergy2548.1',\n",
       "       'fBodyGyrobandsEnergy18.2', 'fBodyGyrobandsEnergy916.2',\n",
       "       'fBodyGyrobandsEnergy1724.2', 'fBodyGyrobandsEnergy2532.2',\n",
       "       'fBodyGyrobandsEnergy3340.2', 'fBodyGyrobandsEnergy4148.2',\n",
       "       'fBodyGyrobandsEnergy4956.2', 'fBodyGyrobandsEnergy5764.2',\n",
       "       'fBodyGyrobandsEnergy116.2', 'fBodyGyrobandsEnergy1732.2',\n",
       "       'fBodyGyrobandsEnergy3348.2', 'fBodyGyrobandsEnergy4964.2',\n",
       "       'fBodyGyrobandsEnergy124.2', 'fBodyGyrobandsEnergy2548.2',\n",
       "       'fBodyAccMagmean', 'fBodyAccMagstd', 'fBodyAccMagmad',\n",
       "       'fBodyAccMagmax', 'fBodyAccMagmin', 'fBodyAccMagsma',\n",
       "       'fBodyAccMagenergy', 'fBodyAccMagiqr', 'fBodyAccMagentropy',\n",
       "       'fBodyAccMagmaxInds', 'fBodyAccMagmeanFreq', 'fBodyAccMagskewness',\n",
       "       'fBodyAccMagkurtosis', 'fBodyAccJerkMagmean', 'fBodyAccJerkMagstd',\n",
       "       'fBodyAccJerkMagmad', 'fBodyAccJerkMagmax', 'fBodyAccJerkMagmin',\n",
       "       'fBodyAccJerkMagsma', 'fBodyAccJerkMagenergy', 'fBodyAccJerkMagiqr',\n",
       "       'fBodyAccJerkMagentropy', 'fBodyAccJerkMagmaxInds',\n",
       "       'fBodyAccJerkMagmeanFreq', 'fBodyAccJerkMagskewness',\n",
       "       'fBodyAccJerkMagkurtosis', 'fBodyGyroMagmean', 'fBodyGyroMagstd',\n",
       "       'fBodyGyroMagmad', 'fBodyGyroMagmax', 'fBodyGyroMagmin',\n",
       "       'fBodyGyroMagsma', 'fBodyGyroMagenergy', 'fBodyGyroMagiqr',\n",
       "       'fBodyGyroMagentropy', 'fBodyGyroMagmaxInds',\n",
       "       'fBodyGyroMagmeanFreq', 'fBodyGyroMagskewness',\n",
       "       'fBodyGyroMagkurtosis', 'fBodyGyroJerkMagmean',\n",
       "       'fBodyGyroJerkMagstd', 'fBodyGyroJerkMagmad', 'fBodyGyroJerkMagmax',\n",
       "       'fBodyGyroJerkMagmin', 'fBodyGyroJerkMagsma',\n",
       "       'fBodyGyroJerkMagenergy', 'fBodyGyroJerkMagiqr',\n",
       "       'fBodyGyroJerkMagentropy', 'fBodyGyroJerkMagmaxInds',\n",
       "       'fBodyGyroJerkMagmeanFreq', 'fBodyGyroJerkMagskewness',\n",
       "       'fBodyGyroJerkMagkurtosis', 'angletBodyAccMeangravity',\n",
       "       'angletBodyAccJerkMeangravityMean', 'angletBodyGyroMeangravityMean',\n",
       "       'angletBodyGyroJerkMeangravityMean', 'angleXgravityMean',\n",
       "       'angleYgravityMean', 'angleZgravityMean', 'subject', 'Activity',\n",
       "       'ActivityName'], dtype=object)"
      ]
     },
     "execution_count": 21,
     "metadata": {},
     "output_type": "execute_result"
    }
   ],
   "source": [
    "train.columns.values"
   ]
  },
  {
   "cell_type": "markdown",
   "metadata": {},
   "source": [
    " "
   ]
  },
  {
   "cell_type": "markdown",
   "metadata": {},
   "source": [
    " "
   ]
  },
  {
   "cell_type": "markdown",
   "metadata": {},
   "source": [
    " "
   ]
  },
  {
   "cell_type": "markdown",
   "metadata": {},
   "source": [
    " "
   ]
  },
  {
   "cell_type": "markdown",
   "metadata": {},
   "source": [
    " "
   ]
  },
  {
   "cell_type": "markdown",
   "metadata": {},
   "source": [
    " "
   ]
  },
  {
   "cell_type": "markdown",
   "metadata": {},
   "source": [
    " "
   ]
  },
  {
   "cell_type": "markdown",
   "metadata": {},
   "source": [
    "# Apply t-sne on the data "
   ]
  },
  {
   "cell_type": "code",
   "execution_count": 22,
   "metadata": {
    "collapsed": true
   },
   "outputs": [],
   "source": [
    "import numpy as np\n",
    "from sklearn.manifold import TSNE"
   ]
  },
  {
   "cell_type": "code",
   "execution_count": 23,
   "metadata": {
    "collapsed": true
   },
   "outputs": [],
   "source": [
    "tsne = TSNE(verbose=15)"
   ]
  },
  {
   "cell_type": "code",
   "execution_count": 24,
   "metadata": {
    "collapsed": true
   },
   "outputs": [
    {
     "name": "stdout",
     "output_type": "stream",
     "text": [
      "[t-SNE] Computing pairwise distances...\n",
      "[t-SNE] Computing 91 nearest neighbors...\n",
      "[t-SNE] Computed conditional probabilities for sample 1000 / 7351\n",
      "[t-SNE] Computed conditional probabilities for sample 2000 / 7351\n",
      "[t-SNE] Computed conditional probabilities for sample 3000 / 7351\n",
      "[t-SNE] Computed conditional probabilities for sample 4000 / 7351\n",
      "[t-SNE] Computed conditional probabilities for sample 5000 / 7351\n",
      "[t-SNE] Computed conditional probabilities for sample 6000 / 7351\n",
      "[t-SNE] Computed conditional probabilities for sample 7000 / 7351\n",
      "[t-SNE] Computed conditional probabilities for sample 7351 / 7351\n",
      "[t-SNE] Mean sigma: 1.347827\n",
      "[t-SNE] Iteration 25: error = 1.7178770, gradient norm = 0.0055756\n",
      "[t-SNE] Iteration 50: error = 1.6976057, gradient norm = 0.0084102\n",
      "[t-SNE] Iteration 75: error = 1.5569313, gradient norm = 0.0025312\n",
      "[t-SNE] Iteration 100: error = 1.5240391, gradient norm = 0.0021329\n",
      "[t-SNE] KL divergence after 100 iterations with early exaggeration: 1.524039\n",
      "[t-SNE] Iteration 125: error = 1.4638230, gradient norm = 0.0016513\n",
      "[t-SNE] Iteration 150: error = 1.4432709, gradient norm = 0.0015143\n",
      "[t-SNE] Iteration 175: error = 1.4379658, gradient norm = 0.0014835\n",
      "[t-SNE] Iteration 200: error = 1.4365373, gradient norm = 0.0014760\n",
      "[t-SNE] Iteration 225: error = 1.4361426, gradient norm = 0.0014740\n",
      "[t-SNE] Iteration 250: error = 1.4360346, gradient norm = 0.0014734\n",
      "[t-SNE] Iteration 275: error = 1.4360021, gradient norm = 0.0014732\n",
      "[t-SNE] Iteration 300: error = 1.4359928, gradient norm = 0.0014732\n",
      "[t-SNE] Iteration 325: error = 1.4359906, gradient norm = 0.0014732\n",
      "[t-SNE] Iteration 350: error = 1.4359902, gradient norm = 0.0014732\n",
      "[t-SNE] Iteration 350: error difference 0.000000. Finished.\n",
      "[t-SNE] Error after 350 iterations: 1.524039\n"
     ]
    }
   ],
   "source": [
    "X_embeded_train = tsne.fit_transform(train.drop(['subject', 'Activity', 'ActivityName'], axis=1))"
   ]
  },
  {
   "cell_type": "code",
   "execution_count": 26,
   "metadata": {},
   "outputs": [
    {
     "data": {
      "text/plain": [
       "(7351, 2)"
      ]
     },
     "execution_count": 26,
     "metadata": {},
     "output_type": "execute_result"
    }
   ],
   "source": [
    "X_embeded_train.shape"
   ]
  },
  {
   "cell_type": "code",
   "execution_count": 39,
   "metadata": {
    "collapsed": true
   },
   "outputs": [],
   "source": [
    "x = X_embeded_train[:,0]\n",
    "y = X_embeded_train[:,1]"
   ]
  },
  {
   "cell_type": "code",
   "execution_count": 41,
   "metadata": {},
   "outputs": [
    {
     "data": {
      "text/plain": [
       "(array([-6.20505697, -0.20136775, -1.04032641, ...,  9.41315989,\n",
       "         9.57464604,  9.56211495]),\n",
       " array([-8.47003692, -3.55149612, -4.40555003, ..., -6.09613395,\n",
       "        -5.99840154, -6.07082741]))"
      ]
     },
     "execution_count": 41,
     "metadata": {},
     "output_type": "execute_result"
    }
   ],
   "source": [
    "x, y"
   ]
  },
  {
   "cell_type": "code",
   "execution_count": 44,
   "metadata": {
    "collapsed": true
   },
   "outputs": [],
   "source": [
    "tsne_df = pd.DataFrame({'x':x, 'y':y})\n",
    "tsne_df['ActivityName'] = train.ActivityName"
   ]
  },
  {
   "cell_type": "code",
   "execution_count": 45,
   "metadata": {},
   "outputs": [
    {
     "data": {
      "text/plain": [
       "Index(['x', 'y', 'ActivityName'], dtype='object')"
      ]
     },
     "execution_count": 45,
     "metadata": {},
     "output_type": "execute_result"
    }
   ],
   "source": [
    "tsne_df.columns"
   ]
  },
  {
   "cell_type": "code",
   "execution_count": 51,
   "metadata": {},
   "outputs": [
    {
     "data": {
      "image/png": "[encoded data removed]",
      "text/plain": [
       "<matplotlib.figure.Figure at 0x7f4857bce048>"
      ]
     },
     "metadata": {},
     "output_type": "display_data"
    }
   ],
   "source": [
    "sns.FacetGrid(tsne_df, hue='ActivityName', size=6).map(plt.scatter, 'x','y').add_legend()\n",
    "plt.show()"
   ]
  },
  {
   "cell_type": "code",
   "execution_count": null,
   "metadata": {
    "collapsed": true
   },
   "outputs": [],
   "source": []
  }
 ],
 "metadata": {
  "kernelspec": {
   "display_name": "Python 3",
   "language": "python",
   "name": "python3"
  },
  "language_info": {
   "codemirror_mode": {
    "name": "ipython",
    "version": 3
   },
   "file_extension": ".py",
   "mimetype": "text/x-python",
   "name": "python",
   "nbconvert_exporter": "python",
   "pygments_lexer": "ipython3",
   "version": "3.6.1"
  }
 },
 "nbformat": 4,
 "nbformat_minor": 2
}
